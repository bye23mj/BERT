{
  "nbformat": 4,
  "nbformat_minor": 0,
  "metadata": {
    "colab": {
      "name": "2021.03.15. KcBERT MLM Finetune with Petition Dataset",
      "provenance": [],
      "collapsed_sections": [],
      "toc_visible": true,
      "machine_shape": "hm",
      "include_colab_link": true
    },
    "kernelspec": {
      "name": "python3",
      "display_name": "Python 3"
    },
    "accelerator": "GPU",
    "widgets": {
      "application/vnd.jupyter.widget-state+json": {
        "24b919ba13f34f6aa148dc6435e450d5": {
          "model_module": "@jupyter-widgets/controls",
          "model_name": "HBoxModel",
          "model_module_version": "1.5.0",
          "state": {
            "_view_name": "HBoxView",
            "_dom_classes": [],
            "_model_name": "HBoxModel",
            "_view_module": "@jupyter-widgets/controls",
            "_model_module_version": "1.5.0",
            "_view_count": null,
            "_view_module_version": "1.5.0",
            "box_style": "",
            "layout": "IPY_MODEL_e184b36746744b1ea8faf0fece80a377",
            "_model_module": "@jupyter-widgets/controls",
            "children": [
              "IPY_MODEL_7f1d80c730ca40f1ab8609986f9b7079",
              "IPY_MODEL_72aad332eb6b4534b8d9bce460905849",
              "IPY_MODEL_41e24ce51d304a89bffe7b7be661ba54"
            ]
          }
        },
        "e184b36746744b1ea8faf0fece80a377": {
          "model_module": "@jupyter-widgets/base",
          "model_name": "LayoutModel",
          "model_module_version": "1.2.0",
          "state": {
            "_view_name": "LayoutView",
            "grid_template_rows": null,
            "right": null,
            "justify_content": null,
            "_view_module": "@jupyter-widgets/base",
            "overflow": null,
            "_model_module_version": "1.2.0",
            "_view_count": null,
            "flex_flow": null,
            "width": null,
            "min_width": null,
            "border": null,
            "align_items": null,
            "bottom": null,
            "_model_module": "@jupyter-widgets/base",
            "top": null,
            "grid_column": null,
            "overflow_y": null,
            "overflow_x": null,
            "grid_auto_flow": null,
            "grid_area": null,
            "grid_template_columns": null,
            "flex": null,
            "_model_name": "LayoutModel",
            "justify_items": null,
            "grid_row": null,
            "max_height": null,
            "align_content": null,
            "visibility": null,
            "align_self": null,
            "height": null,
            "min_height": null,
            "padding": null,
            "grid_auto_rows": null,
            "grid_gap": null,
            "max_width": null,
            "order": null,
            "_view_module_version": "1.2.0",
            "grid_template_areas": null,
            "object_position": null,
            "object_fit": null,
            "grid_auto_columns": null,
            "margin": null,
            "display": null,
            "left": null
          }
        },
        "7f1d80c730ca40f1ab8609986f9b7079": {
          "model_module": "@jupyter-widgets/controls",
          "model_name": "HTMLModel",
          "model_module_version": "1.5.0",
          "state": {
            "_view_name": "HTMLView",
            "style": "IPY_MODEL_100c672a20e7416bacbdecf6a7417111",
            "_dom_classes": [],
            "description": "",
            "_model_name": "HTMLModel",
            "placeholder": "​",
            "_view_module": "@jupyter-widgets/controls",
            "_model_module_version": "1.5.0",
            "value": "100%",
            "_view_count": null,
            "_view_module_version": "1.5.0",
            "description_tooltip": null,
            "_model_module": "@jupyter-widgets/controls",
            "layout": "IPY_MODEL_ece5002e3e064a73ba3be461907b4a9e"
          }
        },
        "72aad332eb6b4534b8d9bce460905849": {
          "model_module": "@jupyter-widgets/controls",
          "model_name": "FloatProgressModel",
          "model_module_version": "1.5.0",
          "state": {
            "_view_name": "ProgressView",
            "style": "IPY_MODEL_ef854ae062a3411aa407fc8ef36c2fa9",
            "_dom_classes": [],
            "description": "",
            "_model_name": "FloatProgressModel",
            "bar_style": "success",
            "max": 20,
            "_view_module": "@jupyter-widgets/controls",
            "_model_module_version": "1.5.0",
            "value": 20,
            "_view_count": null,
            "_view_module_version": "1.5.0",
            "orientation": "horizontal",
            "min": 0,
            "description_tooltip": null,
            "_model_module": "@jupyter-widgets/controls",
            "layout": "IPY_MODEL_e69ee077a90e4d93852685ec424f6b1f"
          }
        },
        "41e24ce51d304a89bffe7b7be661ba54": {
          "model_module": "@jupyter-widgets/controls",
          "model_name": "HTMLModel",
          "model_module_version": "1.5.0",
          "state": {
            "_view_name": "HTMLView",
            "style": "IPY_MODEL_12837fed7e2a46fea6eb1b2175c35c2f",
            "_dom_classes": [],
            "description": "",
            "_model_name": "HTMLModel",
            "placeholder": "​",
            "_view_module": "@jupyter-widgets/controls",
            "_model_module_version": "1.5.0",
            "value": " 20/20 [00:09&lt;00:00,  2.08it/s]",
            "_view_count": null,
            "_view_module_version": "1.5.0",
            "description_tooltip": null,
            "_model_module": "@jupyter-widgets/controls",
            "layout": "IPY_MODEL_00cebb6154394ee884baf32814059c1e"
          }
        },
        "100c672a20e7416bacbdecf6a7417111": {
          "model_module": "@jupyter-widgets/controls",
          "model_name": "DescriptionStyleModel",
          "model_module_version": "1.5.0",
          "state": {
            "_view_name": "StyleView",
            "_model_name": "DescriptionStyleModel",
            "description_width": "",
            "_view_module": "@jupyter-widgets/base",
            "_model_module_version": "1.5.0",
            "_view_count": null,
            "_view_module_version": "1.2.0",
            "_model_module": "@jupyter-widgets/controls"
          }
        },
        "ece5002e3e064a73ba3be461907b4a9e": {
          "model_module": "@jupyter-widgets/base",
          "model_name": "LayoutModel",
          "model_module_version": "1.2.0",
          "state": {
            "_view_name": "LayoutView",
            "grid_template_rows": null,
            "right": null,
            "justify_content": null,
            "_view_module": "@jupyter-widgets/base",
            "overflow": null,
            "_model_module_version": "1.2.0",
            "_view_count": null,
            "flex_flow": null,
            "width": null,
            "min_width": null,
            "border": null,
            "align_items": null,
            "bottom": null,
            "_model_module": "@jupyter-widgets/base",
            "top": null,
            "grid_column": null,
            "overflow_y": null,
            "overflow_x": null,
            "grid_auto_flow": null,
            "grid_area": null,
            "grid_template_columns": null,
            "flex": null,
            "_model_name": "LayoutModel",
            "justify_items": null,
            "grid_row": null,
            "max_height": null,
            "align_content": null,
            "visibility": null,
            "align_self": null,
            "height": null,
            "min_height": null,
            "padding": null,
            "grid_auto_rows": null,
            "grid_gap": null,
            "max_width": null,
            "order": null,
            "_view_module_version": "1.2.0",
            "grid_template_areas": null,
            "object_position": null,
            "object_fit": null,
            "grid_auto_columns": null,
            "margin": null,
            "display": null,
            "left": null
          }
        },
        "ef854ae062a3411aa407fc8ef36c2fa9": {
          "model_module": "@jupyter-widgets/controls",
          "model_name": "ProgressStyleModel",
          "model_module_version": "1.5.0",
          "state": {
            "_view_name": "StyleView",
            "_model_name": "ProgressStyleModel",
            "description_width": "",
            "_view_module": "@jupyter-widgets/base",
            "_model_module_version": "1.5.0",
            "_view_count": null,
            "_view_module_version": "1.2.0",
            "bar_color": null,
            "_model_module": "@jupyter-widgets/controls"
          }
        },
        "e69ee077a90e4d93852685ec424f6b1f": {
          "model_module": "@jupyter-widgets/base",
          "model_name": "LayoutModel",
          "model_module_version": "1.2.0",
          "state": {
            "_view_name": "LayoutView",
            "grid_template_rows": null,
            "right": null,
            "justify_content": null,
            "_view_module": "@jupyter-widgets/base",
            "overflow": null,
            "_model_module_version": "1.2.0",
            "_view_count": null,
            "flex_flow": null,
            "width": null,
            "min_width": null,
            "border": null,
            "align_items": null,
            "bottom": null,
            "_model_module": "@jupyter-widgets/base",
            "top": null,
            "grid_column": null,
            "overflow_y": null,
            "overflow_x": null,
            "grid_auto_flow": null,
            "grid_area": null,
            "grid_template_columns": null,
            "flex": null,
            "_model_name": "LayoutModel",
            "justify_items": null,
            "grid_row": null,
            "max_height": null,
            "align_content": null,
            "visibility": null,
            "align_self": null,
            "height": null,
            "min_height": null,
            "padding": null,
            "grid_auto_rows": null,
            "grid_gap": null,
            "max_width": null,
            "order": null,
            "_view_module_version": "1.2.0",
            "grid_template_areas": null,
            "object_position": null,
            "object_fit": null,
            "grid_auto_columns": null,
            "margin": null,
            "display": null,
            "left": null
          }
        },
        "12837fed7e2a46fea6eb1b2175c35c2f": {
          "model_module": "@jupyter-widgets/controls",
          "model_name": "DescriptionStyleModel",
          "model_module_version": "1.5.0",
          "state": {
            "_view_name": "StyleView",
            "_model_name": "DescriptionStyleModel",
            "description_width": "",
            "_view_module": "@jupyter-widgets/base",
            "_model_module_version": "1.5.0",
            "_view_count": null,
            "_view_module_version": "1.2.0",
            "_model_module": "@jupyter-widgets/controls"
          }
        },
        "00cebb6154394ee884baf32814059c1e": {
          "model_module": "@jupyter-widgets/base",
          "model_name": "LayoutModel",
          "model_module_version": "1.2.0",
          "state": {
            "_view_name": "LayoutView",
            "grid_template_rows": null,
            "right": null,
            "justify_content": null,
            "_view_module": "@jupyter-widgets/base",
            "overflow": null,
            "_model_module_version": "1.2.0",
            "_view_count": null,
            "flex_flow": null,
            "width": null,
            "min_width": null,
            "border": null,
            "align_items": null,
            "bottom": null,
            "_model_module": "@jupyter-widgets/base",
            "top": null,
            "grid_column": null,
            "overflow_y": null,
            "overflow_x": null,
            "grid_auto_flow": null,
            "grid_area": null,
            "grid_template_columns": null,
            "flex": null,
            "_model_name": "LayoutModel",
            "justify_items": null,
            "grid_row": null,
            "max_height": null,
            "align_content": null,
            "visibility": null,
            "align_self": null,
            "height": null,
            "min_height": null,
            "padding": null,
            "grid_auto_rows": null,
            "grid_gap": null,
            "max_width": null,
            "order": null,
            "_view_module_version": "1.2.0",
            "grid_template_areas": null,
            "object_position": null,
            "object_fit": null,
            "grid_auto_columns": null,
            "margin": null,
            "display": null,
            "left": null
          }
        },
        "a619d5c077494c628bfd589032f0057b": {
          "model_module": "@jupyter-widgets/controls",
          "model_name": "HBoxModel",
          "model_module_version": "1.5.0",
          "state": {
            "_view_name": "HBoxView",
            "_dom_classes": [],
            "_model_name": "HBoxModel",
            "_view_module": "@jupyter-widgets/controls",
            "_model_module_version": "1.5.0",
            "_view_count": null,
            "_view_module_version": "1.5.0",
            "box_style": "",
            "layout": "IPY_MODEL_b687225b255a4b0a9945fb5a5b219f48",
            "_model_module": "@jupyter-widgets/controls",
            "children": [
              "IPY_MODEL_ec0bea3e70644604b3e8253d0d2ae528",
              "IPY_MODEL_bb0da81e63fb4b1b8f29d0b80d86248d",
              "IPY_MODEL_211d736187bf49dd930bf6c61e3619b6"
            ]
          }
        },
        "b687225b255a4b0a9945fb5a5b219f48": {
          "model_module": "@jupyter-widgets/base",
          "model_name": "LayoutModel",
          "model_module_version": "1.2.0",
          "state": {
            "_view_name": "LayoutView",
            "grid_template_rows": null,
            "right": null,
            "justify_content": null,
            "_view_module": "@jupyter-widgets/base",
            "overflow": null,
            "_model_module_version": "1.2.0",
            "_view_count": null,
            "flex_flow": null,
            "width": null,
            "min_width": null,
            "border": null,
            "align_items": null,
            "bottom": null,
            "_model_module": "@jupyter-widgets/base",
            "top": null,
            "grid_column": null,
            "overflow_y": null,
            "overflow_x": null,
            "grid_auto_flow": null,
            "grid_area": null,
            "grid_template_columns": null,
            "flex": null,
            "_model_name": "LayoutModel",
            "justify_items": null,
            "grid_row": null,
            "max_height": null,
            "align_content": null,
            "visibility": null,
            "align_self": null,
            "height": null,
            "min_height": null,
            "padding": null,
            "grid_auto_rows": null,
            "grid_gap": null,
            "max_width": null,
            "order": null,
            "_view_module_version": "1.2.0",
            "grid_template_areas": null,
            "object_position": null,
            "object_fit": null,
            "grid_auto_columns": null,
            "margin": null,
            "display": null,
            "left": null
          }
        },
        "ec0bea3e70644604b3e8253d0d2ae528": {
          "model_module": "@jupyter-widgets/controls",
          "model_name": "HTMLModel",
          "model_module_version": "1.5.0",
          "state": {
            "_view_name": "HTMLView",
            "style": "IPY_MODEL_9e88a788fead47a1a90af692d94942ff",
            "_dom_classes": [],
            "description": "",
            "_model_name": "HTMLModel",
            "placeholder": "​",
            "_view_module": "@jupyter-widgets/controls",
            "_model_module_version": "1.5.0",
            "value": "  0%",
            "_view_count": null,
            "_view_module_version": "1.5.0",
            "description_tooltip": null,
            "_model_module": "@jupyter-widgets/controls",
            "layout": "IPY_MODEL_3b7c4bc39fca494dba816c92c0f32cc8"
          }
        },
        "bb0da81e63fb4b1b8f29d0b80d86248d": {
          "model_module": "@jupyter-widgets/controls",
          "model_name": "FloatProgressModel",
          "model_module_version": "1.5.0",
          "state": {
            "_view_name": "ProgressView",
            "style": "IPY_MODEL_fb9c04093d6d4850b5a8f35da73ecb56",
            "_dom_classes": [],
            "description": "",
            "_model_name": "FloatProgressModel",
            "bar_style": "danger",
            "max": 3704,
            "_view_module": "@jupyter-widgets/controls",
            "_model_module_version": "1.5.0",
            "value": 13,
            "_view_count": null,
            "_view_module_version": "1.5.0",
            "orientation": "horizontal",
            "min": 0,
            "description_tooltip": null,
            "_model_module": "@jupyter-widgets/controls",
            "layout": "IPY_MODEL_91e2e116a06849079b045fe5e916c54f"
          }
        },
        "211d736187bf49dd930bf6c61e3619b6": {
          "model_module": "@jupyter-widgets/controls",
          "model_name": "HTMLModel",
          "model_module_version": "1.5.0",
          "state": {
            "_view_name": "HTMLView",
            "style": "IPY_MODEL_36bc81bec3644b8b99f98524eb7492b1",
            "_dom_classes": [],
            "description": "",
            "_model_name": "HTMLModel",
            "placeholder": "​",
            "_view_module": "@jupyter-widgets/controls",
            "_model_module_version": "1.5.0",
            "value": " 13/3704 [00:01&lt;13:01,  4.72it/s]",
            "_view_count": null,
            "_view_module_version": "1.5.0",
            "description_tooltip": null,
            "_model_module": "@jupyter-widgets/controls",
            "layout": "IPY_MODEL_7713dc447df04ebe8c42fbe717a3767b"
          }
        },
        "9e88a788fead47a1a90af692d94942ff": {
          "model_module": "@jupyter-widgets/controls",
          "model_name": "DescriptionStyleModel",
          "model_module_version": "1.5.0",
          "state": {
            "_view_name": "StyleView",
            "_model_name": "DescriptionStyleModel",
            "description_width": "",
            "_view_module": "@jupyter-widgets/base",
            "_model_module_version": "1.5.0",
            "_view_count": null,
            "_view_module_version": "1.2.0",
            "_model_module": "@jupyter-widgets/controls"
          }
        },
        "3b7c4bc39fca494dba816c92c0f32cc8": {
          "model_module": "@jupyter-widgets/base",
          "model_name": "LayoutModel",
          "model_module_version": "1.2.0",
          "state": {
            "_view_name": "LayoutView",
            "grid_template_rows": null,
            "right": null,
            "justify_content": null,
            "_view_module": "@jupyter-widgets/base",
            "overflow": null,
            "_model_module_version": "1.2.0",
            "_view_count": null,
            "flex_flow": null,
            "width": null,
            "min_width": null,
            "border": null,
            "align_items": null,
            "bottom": null,
            "_model_module": "@jupyter-widgets/base",
            "top": null,
            "grid_column": null,
            "overflow_y": null,
            "overflow_x": null,
            "grid_auto_flow": null,
            "grid_area": null,
            "grid_template_columns": null,
            "flex": null,
            "_model_name": "LayoutModel",
            "justify_items": null,
            "grid_row": null,
            "max_height": null,
            "align_content": null,
            "visibility": null,
            "align_self": null,
            "height": null,
            "min_height": null,
            "padding": null,
            "grid_auto_rows": null,
            "grid_gap": null,
            "max_width": null,
            "order": null,
            "_view_module_version": "1.2.0",
            "grid_template_areas": null,
            "object_position": null,
            "object_fit": null,
            "grid_auto_columns": null,
            "margin": null,
            "display": null,
            "left": null
          }
        },
        "fb9c04093d6d4850b5a8f35da73ecb56": {
          "model_module": "@jupyter-widgets/controls",
          "model_name": "ProgressStyleModel",
          "model_module_version": "1.5.0",
          "state": {
            "_view_name": "StyleView",
            "_model_name": "ProgressStyleModel",
            "description_width": "",
            "_view_module": "@jupyter-widgets/base",
            "_model_module_version": "1.5.0",
            "_view_count": null,
            "_view_module_version": "1.2.0",
            "bar_color": null,
            "_model_module": "@jupyter-widgets/controls"
          }
        },
        "91e2e116a06849079b045fe5e916c54f": {
          "model_module": "@jupyter-widgets/base",
          "model_name": "LayoutModel",
          "model_module_version": "1.2.0",
          "state": {
            "_view_name": "LayoutView",
            "grid_template_rows": null,
            "right": null,
            "justify_content": null,
            "_view_module": "@jupyter-widgets/base",
            "overflow": null,
            "_model_module_version": "1.2.0",
            "_view_count": null,
            "flex_flow": null,
            "width": null,
            "min_width": null,
            "border": null,
            "align_items": null,
            "bottom": null,
            "_model_module": "@jupyter-widgets/base",
            "top": null,
            "grid_column": null,
            "overflow_y": null,
            "overflow_x": null,
            "grid_auto_flow": null,
            "grid_area": null,
            "grid_template_columns": null,
            "flex": null,
            "_model_name": "LayoutModel",
            "justify_items": null,
            "grid_row": null,
            "max_height": null,
            "align_content": null,
            "visibility": null,
            "align_self": null,
            "height": null,
            "min_height": null,
            "padding": null,
            "grid_auto_rows": null,
            "grid_gap": null,
            "max_width": null,
            "order": null,
            "_view_module_version": "1.2.0",
            "grid_template_areas": null,
            "object_position": null,
            "object_fit": null,
            "grid_auto_columns": null,
            "margin": null,
            "display": null,
            "left": null
          }
        },
        "36bc81bec3644b8b99f98524eb7492b1": {
          "model_module": "@jupyter-widgets/controls",
          "model_name": "DescriptionStyleModel",
          "model_module_version": "1.5.0",
          "state": {
            "_view_name": "StyleView",
            "_model_name": "DescriptionStyleModel",
            "description_width": "",
            "_view_module": "@jupyter-widgets/base",
            "_model_module_version": "1.5.0",
            "_view_count": null,
            "_view_module_version": "1.2.0",
            "_model_module": "@jupyter-widgets/controls"
          }
        },
        "7713dc447df04ebe8c42fbe717a3767b": {
          "model_module": "@jupyter-widgets/base",
          "model_name": "LayoutModel",
          "model_module_version": "1.2.0",
          "state": {
            "_view_name": "LayoutView",
            "grid_template_rows": null,
            "right": null,
            "justify_content": null,
            "_view_module": "@jupyter-widgets/base",
            "overflow": null,
            "_model_module_version": "1.2.0",
            "_view_count": null,
            "flex_flow": null,
            "width": null,
            "min_width": null,
            "border": null,
            "align_items": null,
            "bottom": null,
            "_model_module": "@jupyter-widgets/base",
            "top": null,
            "grid_column": null,
            "overflow_y": null,
            "overflow_x": null,
            "grid_auto_flow": null,
            "grid_area": null,
            "grid_template_columns": null,
            "flex": null,
            "_model_name": "LayoutModel",
            "justify_items": null,
            "grid_row": null,
            "max_height": null,
            "align_content": null,
            "visibility": null,
            "align_self": null,
            "height": null,
            "min_height": null,
            "padding": null,
            "grid_auto_rows": null,
            "grid_gap": null,
            "max_width": null,
            "order": null,
            "_view_module_version": "1.2.0",
            "grid_template_areas": null,
            "object_position": null,
            "object_fit": null,
            "grid_auto_columns": null,
            "margin": null,
            "display": null,
            "left": null
          }
        }
      }
    }
  },
  "cells": [
    {
      "cell_type": "markdown",
      "metadata": {
        "id": "view-in-github",
        "colab_type": "text"
      },
      "source": [
        "<a href=\"https://colab.research.google.com/github/bye23mj/BERT/blob/main/2021_03_15_KcBERT_MLM_Finetune_with_Petition_Dataset.ipynb\" target=\"_parent\"><img src=\"https://colab.research.google.com/assets/colab-badge.svg\" alt=\"Open In Colab\"/></a>"
      ]
    },
    {
      "cell_type": "markdown",
      "metadata": {
        "id": "XxaDw3JIXrDf"
      },
      "source": [
        "# 필요한 패키지 설치\n",
        "\n",
        "- Korpora: 데이터셋 다운로드\n",
        "- emoji: 이모지코드\n",
        "- soynlp: Preprocesisng\n",
        "- kss: 한국어 문장 분리기\n",
        "- transformers: MLM 학습 및 데이터셋\n",
        "  - datasets\n",
        "  - protobuf\n",
        "  - sentencepiece"
      ]
    },
    {
      "cell_type": "code",
      "metadata": {
        "id": "lqA2SU2sWqjR",
        "colab": {
          "base_uri": "https://localhost:8080/"
        },
        "outputId": "a592d3c8-0d98-4871-ba23-41bf6bd95c12"
      },
      "source": [
        "!pip install -q Korpora emoji soynlp \"kss<2.6\" transformers \"datasets >= 1.1.3\" \"sentencepiece != 0.1.92\" protobuf"
      ],
      "execution_count": null,
      "outputs": [
        {
          "output_type": "stream",
          "text": [
            "\u001b[?25l\r\u001b[K     |█████                           | 10 kB 31.3 MB/s eta 0:00:01\r\u001b[K     |██████████                      | 20 kB 18.5 MB/s eta 0:00:01\r\u001b[K     |███████████████                 | 30 kB 11.0 MB/s eta 0:00:01\r\u001b[K     |███████████████████▉            | 40 kB 8.8 MB/s eta 0:00:01\r\u001b[K     |████████████████████████▉       | 51 kB 5.0 MB/s eta 0:00:01\r\u001b[K     |█████████████████████████████▉  | 61 kB 5.5 MB/s eta 0:00:01\r\u001b[K     |████████████████████████████████| 65 kB 2.5 MB/s \n",
            "\u001b[?25h"
          ],
          "name": "stdout"
        }
      ]
    },
    {
      "cell_type": "markdown",
      "metadata": {
        "id": "0nAbFcVFXzV4"
      },
      "source": [
        "# 예시용 데이터셋 다운로드\n",
        "\n",
        "- 여기서는 Korean petitions dataset(국민청원 데이터셋)을 사용\n",
        "- 전체 중 동의 수가 1000건 초과인 본문만 사용"
      ]
    },
    {
      "cell_type": "code",
      "metadata": {
        "id": "3Z7ji3QnW7JG"
      },
      "source": [
        "from Korpora import Korpora"
      ],
      "execution_count": null,
      "outputs": []
    },
    {
      "cell_type": "code",
      "metadata": {
        "colab": {
          "base_uri": "https://localhost:8080/"
        },
        "id": "erTvWvZCW91J",
        "outputId": "54739e2f-aa45-48ab-bcf4-859005a8ed0b"
      },
      "source": [
        "Korpora.fetch('korean_petitions', root_dir='./Korpora')"
      ],
      "execution_count": null,
      "outputs": [
        {
          "output_type": "stream",
          "text": [
            "[Korpora] Corpus `korean_petitions` is already installed at /content/Korpora/korean_petitions/petitions_2017-08\n",
            "[Korpora] Corpus `korean_petitions` is already installed at /content/Korpora/korean_petitions/petitions_2017-09\n",
            "[Korpora] Corpus `korean_petitions` is already installed at /content/Korpora/korean_petitions/petitions_2017-10\n",
            "[Korpora] Corpus `korean_petitions` is already installed at /content/Korpora/korean_petitions/petitions_2017-11\n",
            "[Korpora] Corpus `korean_petitions` is already installed at /content/Korpora/korean_petitions/petitions_2017-12\n",
            "[Korpora] Corpus `korean_petitions` is already installed at /content/Korpora/korean_petitions/petitions_2018-01\n",
            "[Korpora] Corpus `korean_petitions` is already installed at /content/Korpora/korean_petitions/petitions_2018-02\n",
            "[Korpora] Corpus `korean_petitions` is already installed at /content/Korpora/korean_petitions/petitions_2018-03\n",
            "[Korpora] Corpus `korean_petitions` is already installed at /content/Korpora/korean_petitions/petitions_2018-04\n",
            "[Korpora] Corpus `korean_petitions` is already installed at /content/Korpora/korean_petitions/petitions_2018-05\n",
            "[Korpora] Corpus `korean_petitions` is already installed at /content/Korpora/korean_petitions/petitions_2018-06\n",
            "[Korpora] Corpus `korean_petitions` is already installed at /content/Korpora/korean_petitions/petitions_2018-07\n",
            "[Korpora] Corpus `korean_petitions` is already installed at /content/Korpora/korean_petitions/petitions_2018-08\n",
            "[Korpora] Corpus `korean_petitions` is already installed at /content/Korpora/korean_petitions/petitions_2018-09\n",
            "[Korpora] Corpus `korean_petitions` is already installed at /content/Korpora/korean_petitions/petitions_2018-10\n",
            "[Korpora] Corpus `korean_petitions` is already installed at /content/Korpora/korean_petitions/petitions_2018-11\n",
            "[Korpora] Corpus `korean_petitions` is already installed at /content/Korpora/korean_petitions/petitions_2018-12\n",
            "[Korpora] Corpus `korean_petitions` is already installed at /content/Korpora/korean_petitions/petitions_2019-01\n",
            "[Korpora] Corpus `korean_petitions` is already installed at /content/Korpora/korean_petitions/petitions_2019-02\n",
            "[Korpora] Corpus `korean_petitions` is already installed at /content/Korpora/korean_petitions/petitions_2019-03\n"
          ],
          "name": "stdout"
        }
      ]
    },
    {
      "cell_type": "code",
      "metadata": {
        "id": "Gk4EXcX3W-LO"
      },
      "source": [
        "from glob import glob"
      ],
      "execution_count": null,
      "outputs": []
    },
    {
      "cell_type": "code",
      "metadata": {
        "colab": {
          "base_uri": "https://localhost:8080/"
        },
        "id": "XPQDC74FXAxb",
        "outputId": "85fbe915-26c5-45f0-d91a-1a3835d00e21"
      },
      "source": [
        "dataset = glob('./Korpora/korean_petitions/petitions*')\n",
        "dataset"
      ],
      "execution_count": null,
      "outputs": [
        {
          "output_type": "execute_result",
          "data": {
            "text/plain": [
              "['./Korpora/korean_petitions/petitions_2018-06',\n",
              " './Korpora/korean_petitions/petitions_2018-05',\n",
              " './Korpora/korean_petitions/petitions_2018-01',\n",
              " './Korpora/korean_petitions/petitions_2017-11',\n",
              " './Korpora/korean_petitions/petitions_2017-09',\n",
              " './Korpora/korean_petitions/petitions_2018-10',\n",
              " './Korpora/korean_petitions/petitions_2019-03',\n",
              " './Korpora/korean_petitions/petitions_2019-02',\n",
              " './Korpora/korean_petitions/petitions_2018-03',\n",
              " './Korpora/korean_petitions/petitions_2017-08',\n",
              " './Korpora/korean_petitions/petitions_2019-01',\n",
              " './Korpora/korean_petitions/petitions_2018-11',\n",
              " './Korpora/korean_petitions/petitions_2018-09',\n",
              " './Korpora/korean_petitions/petitions_2018-07',\n",
              " './Korpora/korean_petitions/petitions_2017-10',\n",
              " './Korpora/korean_petitions/petitions_2018-12',\n",
              " './Korpora/korean_petitions/petitions_2018-02',\n",
              " './Korpora/korean_petitions/petitions_2018-08',\n",
              " './Korpora/korean_petitions/petitions_2018-04',\n",
              " './Korpora/korean_petitions/petitions_2017-12']"
            ]
          },
          "metadata": {
            "tags": []
          },
          "execution_count": 30
        }
      ]
    },
    {
      "cell_type": "markdown",
      "metadata": {
        "id": "Ssdr7HBMX8Xo"
      },
      "source": [
        "# 데이터 로딩\n",
        "\n",
        "- pandas로 `content` 부분만 읽어 파일로 만들기\n",
        "- kss로 각 청원 게시글 내 문장 분리 \n"
      ]
    },
    {
      "cell_type": "code",
      "metadata": {
        "id": "eS_NOWeWXB-x"
      },
      "source": [
        "import pandas as pd\n",
        "from tqdm.auto import tqdm"
      ],
      "execution_count": null,
      "outputs": []
    },
    {
      "cell_type": "code",
      "metadata": {
        "colab": {
          "base_uri": "https://localhost:8080/",
          "height": 49,
          "referenced_widgets": [
            "24b919ba13f34f6aa148dc6435e450d5",
            "e184b36746744b1ea8faf0fece80a377",
            "7f1d80c730ca40f1ab8609986f9b7079",
            "72aad332eb6b4534b8d9bce460905849",
            "41e24ce51d304a89bffe7b7be661ba54",
            "100c672a20e7416bacbdecf6a7417111",
            "ece5002e3e064a73ba3be461907b4a9e",
            "ef854ae062a3411aa407fc8ef36c2fa9",
            "e69ee077a90e4d93852685ec424f6b1f",
            "12837fed7e2a46fea6eb1b2175c35c2f",
            "00cebb6154394ee884baf32814059c1e"
          ]
        },
        "id": "oXnOcNi8XDC8",
        "outputId": "0a3b73c5-973a-44bd-899b-5fe559d63523"
      },
      "source": [
        "df = pd.concat([pd.read_json(i, lines=True) for i in tqdm(dataset)])"
      ],
      "execution_count": null,
      "outputs": [
        {
          "output_type": "display_data",
          "data": {
            "application/vnd.jupyter.widget-view+json": {
              "model_id": "24b919ba13f34f6aa148dc6435e450d5",
              "version_minor": 0,
              "version_major": 2
            },
            "text/plain": [
              "  0%|          | 0/20 [00:00<?, ?it/s]"
            ]
          },
          "metadata": {
            "tags": []
          }
        }
      ]
    },
    {
      "cell_type": "code",
      "metadata": {
        "colab": {
          "base_uri": "https://localhost:8080/",
          "height": 204
        },
        "id": "yH94XSQfXEHU",
        "outputId": "6154d041-bc63-4f8f-dc76-082c0e1bc94b"
      },
      "source": [
        "df.head()"
      ],
      "execution_count": null,
      "outputs": [
        {
          "output_type": "execute_result",
          "data": {
            "text/html": [
              "<div>\n",
              "<style scoped>\n",
              "    .dataframe tbody tr th:only-of-type {\n",
              "        vertical-align: middle;\n",
              "    }\n",
              "\n",
              "    .dataframe tbody tr th {\n",
              "        vertical-align: top;\n",
              "    }\n",
              "\n",
              "    .dataframe thead th {\n",
              "        text-align: right;\n",
              "    }\n",
              "</style>\n",
              "<table border=\"1\" class=\"dataframe\">\n",
              "  <thead>\n",
              "    <tr style=\"text-align: right;\">\n",
              "      <th></th>\n",
              "      <th>category</th>\n",
              "      <th>begin</th>\n",
              "      <th>end</th>\n",
              "      <th>content</th>\n",
              "      <th>num_agree</th>\n",
              "      <th>petition_idx</th>\n",
              "      <th>status</th>\n",
              "      <th>title</th>\n",
              "      <th>replies</th>\n",
              "    </tr>\n",
              "  </thead>\n",
              "  <tbody>\n",
              "    <tr>\n",
              "      <th>0</th>\n",
              "      <td>미래</td>\n",
              "      <td>2018-06-01</td>\n",
              "      <td>2018-07-01</td>\n",
              "      <td>중국과 5년간 일때문에 교류를 하면서, 통역을 맡은 아가씨들이 모두 조선족아가씨 였...</td>\n",
              "      <td>9</td>\n",
              "      <td>257860</td>\n",
              "      <td>청원종료</td>\n",
              "      <td>조선족은 중국사람 입니다!</td>\n",
              "      <td>NaN</td>\n",
              "    </tr>\n",
              "    <tr>\n",
              "      <th>1</th>\n",
              "      <td>기타</td>\n",
              "      <td>2018-06-01</td>\n",
              "      <td>2018-07-01</td>\n",
              "      <td>안녕하세요 저는 18세 남자입니다 요즘 페북이나 청와대 홈페이지를 통해 청원들을 보...</td>\n",
              "      <td>3</td>\n",
              "      <td>257861</td>\n",
              "      <td>청원종료</td>\n",
              "      <td>청원의 문제점</td>\n",
              "      <td>NaN</td>\n",
              "    </tr>\n",
              "    <tr>\n",
              "      <th>2</th>\n",
              "      <td>문화/예술/체육/언론</td>\n",
              "      <td>2018-06-01</td>\n",
              "      <td>2018-07-01</td>\n",
              "      <td>어제 오늘 중계보고 있으려니 속터지네요 감독작전도 무대책 ᆢ리시브 기본도 없는 선수...</td>\n",
              "      <td>0</td>\n",
              "      <td>257862</td>\n",
              "      <td>청원종료</td>\n",
              "      <td>여자대표 철수해주세요</td>\n",
              "      <td>NaN</td>\n",
              "    </tr>\n",
              "    <tr>\n",
              "      <th>3</th>\n",
              "      <td>정치개혁</td>\n",
              "      <td>2018-06-01</td>\n",
              "      <td>2018-07-01</td>\n",
              "      <td>대통령님 덕분에 우리나라가 좋아졌다는걸 느껴요 항상 국민 옆에 계셔야 해요!</td>\n",
              "      <td>0</td>\n",
              "      <td>257863</td>\n",
              "      <td>청원종료</td>\n",
              "      <td>문대통령님 오랫동안 대통령하시면 안될까요?</td>\n",
              "      <td>NaN</td>\n",
              "    </tr>\n",
              "    <tr>\n",
              "      <th>4</th>\n",
              "      <td>육아/교육</td>\n",
              "      <td>2018-06-01</td>\n",
              "      <td>2018-07-01</td>\n",
              "      <td>급식이 너무 맛이 없고 가격도 비싸서 재원생의 원성이 자자합니다. 알고보니 급식업체...</td>\n",
              "      <td>34</td>\n",
              "      <td>257864</td>\n",
              "      <td>청원종료</td>\n",
              "      <td>시대인재학원 급식 좀 맛있게 해주세요</td>\n",
              "      <td>NaN</td>\n",
              "    </tr>\n",
              "  </tbody>\n",
              "</table>\n",
              "</div>"
            ],
            "text/plain": [
              "      category       begin         end  ... status                    title  replies\n",
              "0           미래  2018-06-01  2018-07-01  ...   청원종료           조선족은 중국사람 입니다!      NaN\n",
              "1           기타  2018-06-01  2018-07-01  ...   청원종료                  청원의 문제점      NaN\n",
              "2  문화/예술/체육/언론  2018-06-01  2018-07-01  ...   청원종료              여자대표 철수해주세요      NaN\n",
              "3         정치개혁  2018-06-01  2018-07-01  ...   청원종료  문대통령님 오랫동안 대통령하시면 안될까요?      NaN\n",
              "4        육아/교육  2018-06-01  2018-07-01  ...   청원종료     시대인재학원 급식 좀 맛있게 해주세요      NaN\n",
              "\n",
              "[5 rows x 9 columns]"
            ]
          },
          "metadata": {
            "tags": []
          },
          "execution_count": 33
        }
      ]
    },
    {
      "cell_type": "code",
      "metadata": {
        "colab": {
          "base_uri": "https://localhost:8080/"
        },
        "id": "_EmRjLbOXFHX",
        "outputId": "3b8fe782-d0ce-450e-aabe-8fde6ce995c5"
      },
      "source": [
        "len(df)"
      ],
      "execution_count": null,
      "outputs": [
        {
          "output_type": "execute_result",
          "data": {
            "text/plain": [
              "433631"
            ]
          },
          "metadata": {
            "tags": []
          },
          "execution_count": 34
        }
      ]
    },
    {
      "cell_type": "code",
      "metadata": {
        "id": "PZAqRMwBXG1i"
      },
      "source": [
        "agreed_df = df[df['num_agree'] > 1000]"
      ],
      "execution_count": null,
      "outputs": []
    },
    {
      "cell_type": "code",
      "metadata": {
        "colab": {
          "base_uri": "https://localhost:8080/"
        },
        "id": "O5eeT1UZXUUn",
        "outputId": "5fadd314-f8db-4145-8253-a1b1f574a50e"
      },
      "source": [
        "len(agreed_df)"
      ],
      "execution_count": null,
      "outputs": [
        {
          "output_type": "execute_result",
          "data": {
            "text/plain": [
              "3704"
            ]
          },
          "metadata": {
            "tags": []
          },
          "execution_count": 36
        }
      ]
    },
    {
      "cell_type": "code",
      "metadata": {
        "id": "1T8OvUwDXVM3"
      },
      "source": [
        "import re\n",
        "import emoji\n",
        "from soynlp.normalizer import repeat_normalize\n",
        "\n",
        "emojis = ''.join(emoji.UNICODE_EMOJI.keys())\n",
        "pattern = re.compile(f'[^ .,?!/@$%~％·∼()\\x00-\\x7Fㄱ-ㅣ가-힣{emojis}]+')\n",
        "url_pattern = re.compile(\n",
        "    r'https?:\\/\\/(www\\.)?[-a-zA-Z0-9@:%._\\+~#=]{1,256}\\.[a-zA-Z0-9()]{1,6}\\b([-a-zA-Z0-9()@:%_\\+.~#?&//=]*)')\n",
        "\n",
        "def clean(x):\n",
        "    x = pattern.sub(' ', x)\n",
        "    x = url_pattern.sub('', x)\n",
        "    x = x.strip()\n",
        "    x = repeat_normalize(x, num_repeats=2)\n",
        "    return x"
      ],
      "execution_count": null,
      "outputs": []
    },
    {
      "cell_type": "code",
      "metadata": {
        "id": "z59q9G4gXWVh"
      },
      "source": [
        "contents = agreed_df['content'].map(clean).to_list()"
      ],
      "execution_count": null,
      "outputs": []
    },
    {
      "cell_type": "code",
      "metadata": {
        "id": "V-VI74f3XXV-"
      },
      "source": [
        "from kss import split_sentences"
      ],
      "execution_count": null,
      "outputs": []
    },
    {
      "cell_type": "code",
      "metadata": {
        "id": "fJtIEVBpY58Z"
      },
      "source": [
        "import os"
      ],
      "execution_count": null,
      "outputs": []
    },
    {
      "cell_type": "code",
      "metadata": {
        "id": "0H8sIa3CehbT",
        "outputId": "c84a9404-d592-4d16-a21e-9a175c8ccec1",
        "colab": {
          "base_uri": "https://localhost:8080/"
        }
      },
      "source": [
        "split_sentences(\"안녕하세요. 오늘은 날씨가 좋더라구요.\")"
      ],
      "execution_count": null,
      "outputs": [
        {
          "output_type": "execute_result",
          "data": {
            "text/plain": [
              "['안녕하세요.', '오늘은 날씨가 좋더라구요.']"
            ]
          },
          "metadata": {
            "tags": []
          },
          "execution_count": 41
        }
      ]
    },
    {
      "cell_type": "code",
      "metadata": {
        "colab": {
          "base_uri": "https://localhost:8080/",
          "height": 322,
          "referenced_widgets": [
            "a619d5c077494c628bfd589032f0057b",
            "b687225b255a4b0a9945fb5a5b219f48",
            "ec0bea3e70644604b3e8253d0d2ae528",
            "bb0da81e63fb4b1b8f29d0b80d86248d",
            "211d736187bf49dd930bf6c61e3619b6",
            "9e88a788fead47a1a90af692d94942ff",
            "3b7c4bc39fca494dba816c92c0f32cc8",
            "fb9c04093d6d4850b5a8f35da73ecb56",
            "91e2e116a06849079b045fe5e916c54f",
            "36bc81bec3644b8b99f98524eb7492b1",
            "7713dc447df04ebe8c42fbe717a3767b"
          ]
        },
        "id": "i0RriVk2XY05",
        "outputId": "ef307a1d-123c-4682-ae72-d2d4d04ddde7"
      },
      "source": [
        "with open('korean_petitions_safe.txt', 'w') as f:\n",
        "    for doc in tqdm(contents):\n",
        "        if doc:\n",
        "            for line in split_sentences(doc):\n",
        "                f.write(line+'\\n')\n",
        "            f.write('\\n')\n",
        "    f.close()"
      ],
      "execution_count": null,
      "outputs": [
        {
          "output_type": "display_data",
          "data": {
            "application/vnd.jupyter.widget-view+json": {
              "model_id": "a619d5c077494c628bfd589032f0057b",
              "version_minor": 0,
              "version_major": 2
            },
            "text/plain": [
              "  0%|          | 0/3704 [00:00<?, ?it/s]"
            ]
          },
          "metadata": {
            "tags": []
          }
        },
        {
          "output_type": "error",
          "ename": "TypeError",
          "evalue": "ignored",
          "traceback": [
            "\u001b[0;31m---------------------------------------------------------------------------\u001b[0m",
            "\u001b[0;31mTypeError\u001b[0m                                 Traceback (most recent call last)",
            "\u001b[0;32m<ipython-input-43-c1df52e7c6de>\u001b[0m in \u001b[0;36m<module>\u001b[0;34m()\u001b[0m\n\u001b[1;32m      2\u001b[0m     \u001b[0;32mfor\u001b[0m \u001b[0mdoc\u001b[0m \u001b[0;32min\u001b[0m \u001b[0mtqdm\u001b[0m\u001b[0;34m(\u001b[0m\u001b[0mcontents\u001b[0m\u001b[0;34m)\u001b[0m\u001b[0;34m:\u001b[0m\u001b[0;34m\u001b[0m\u001b[0;34m\u001b[0m\u001b[0m\n\u001b[1;32m      3\u001b[0m         \u001b[0;32mif\u001b[0m \u001b[0mdoc\u001b[0m\u001b[0;34m:\u001b[0m\u001b[0;34m\u001b[0m\u001b[0;34m\u001b[0m\u001b[0m\n\u001b[0;32m----> 4\u001b[0;31m             \u001b[0;32mfor\u001b[0m \u001b[0mline\u001b[0m \u001b[0;32min\u001b[0m \u001b[0msplit_sentences\u001b[0m\u001b[0;34m(\u001b[0m\u001b[0mdoc\u001b[0m\u001b[0;34m)\u001b[0m\u001b[0;34m:\u001b[0m\u001b[0;34m\u001b[0m\u001b[0;34m\u001b[0m\u001b[0m\n\u001b[0m\u001b[1;32m      5\u001b[0m                 \u001b[0mf\u001b[0m\u001b[0;34m.\u001b[0m\u001b[0mwrite\u001b[0m\u001b[0;34m(\u001b[0m\u001b[0mline\u001b[0m\u001b[0;34m+\u001b[0m\u001b[0;34m'\\n'\u001b[0m\u001b[0;34m)\u001b[0m\u001b[0;34m\u001b[0m\u001b[0;34m\u001b[0m\u001b[0m\n\u001b[1;32m      6\u001b[0m             \u001b[0mf\u001b[0m\u001b[0;34m.\u001b[0m\u001b[0mwrite\u001b[0m\u001b[0;34m(\u001b[0m\u001b[0;34m'\\n'\u001b[0m\u001b[0;34m)\u001b[0m\u001b[0;34m\u001b[0m\u001b[0;34m\u001b[0m\u001b[0m\n",
            "\u001b[0;32m/usr/local/lib/python3.7/dist-packages/kss/kss.py\u001b[0m in \u001b[0;36msplit_sentences\u001b[0;34m(text, use_heuristic, max_recover_step, max_recover_length, ignore_quotes_or_brackets)\u001b[0m\n\u001b[1;32m    160\u001b[0m     \u001b[0;32mfor\u001b[0m \u001b[0ms\u001b[0m \u001b[0;32min\u001b[0m \u001b[0mneed_to_replace_zwsp\u001b[0m\u001b[0;34m:\u001b[0m\u001b[0;34m\u001b[0m\u001b[0;34m\u001b[0m\u001b[0m\n\u001b[1;32m    161\u001b[0m         \u001b[0mtext\u001b[0m \u001b[0;34m=\u001b[0m \u001b[0mtext\u001b[0m\u001b[0;34m.\u001b[0m\u001b[0mreplace\u001b[0m\u001b[0;34m(\u001b[0m\u001b[0ms\u001b[0m\u001b[0;34m,\u001b[0m \u001b[0;34mf\"\\u200b{s}\\u200b\"\u001b[0m\u001b[0;34m)\u001b[0m\u001b[0;34m\u001b[0m\u001b[0;34m\u001b[0m\u001b[0m\n\u001b[0;32m--> 162\u001b[0;31m \u001b[0;34m\u001b[0m\u001b[0m\n\u001b[0m\u001b[1;32m    163\u001b[0m     \u001b[0mprev_1\u001b[0m\u001b[0;34m:\u001b[0m \u001b[0mstr\u001b[0m \u001b[0;34m=\u001b[0m \u001b[0;34m\"\"\u001b[0m\u001b[0;34m\u001b[0m\u001b[0;34m\u001b[0m\u001b[0m\n\u001b[1;32m    164\u001b[0m     \u001b[0mprev_2\u001b[0m\u001b[0;34m:\u001b[0m \u001b[0mstr\u001b[0m \u001b[0;34m=\u001b[0m \u001b[0;34m\"\"\u001b[0m\u001b[0;34m\u001b[0m\u001b[0;34m\u001b[0m\u001b[0m\n",
            "\u001b[0;32m/usr/local/lib/python3.7/dist-packages/kss/kss.py\u001b[0m in \u001b[0;36m_split_sentences\u001b[0;34m(text, use_heuristic, max_recover_step, max_recover_length, ignore_quotes_or_brackets, recover_step)\u001b[0m\n\u001b[1;32m    321\u001b[0m         \u001b[0mcur_sentence\u001b[0m \u001b[0;34m=\u001b[0m \u001b[0mdo_trim_sent_push_results\u001b[0m\u001b[0;34m(\u001b[0m\u001b[0mcur_sentence\u001b[0m\u001b[0;34m,\u001b[0m \u001b[0mresults\u001b[0m\u001b[0;34m)\u001b[0m\u001b[0;34m\u001b[0m\u001b[0;34m\u001b[0m\u001b[0m\n\u001b[1;32m    322\u001b[0m \u001b[0;34m\u001b[0m\u001b[0m\n\u001b[0;32m--> 323\u001b[0;31m     \u001b[0;32mif\u001b[0m \u001b[0mTable\u001b[0m\u001b[0;34m[\u001b[0m\u001b[0mcur_stat\u001b[0m\u001b[0;34m]\u001b[0m\u001b[0;34m[\u001b[0m\u001b[0mprev_1\u001b[0m\u001b[0;34m]\u001b[0m \u001b[0;34m&\u001b[0m \u001b[0mID\u001b[0m\u001b[0;34m.\u001b[0m\u001b[0mNEXT1\u001b[0m\u001b[0;34m:\u001b[0m\u001b[0;34m\u001b[0m\u001b[0;34m\u001b[0m\u001b[0m\n\u001b[0m\u001b[1;32m    324\u001b[0m         \u001b[0mcur_sentence\u001b[0m \u001b[0;34m+=\u001b[0m \u001b[0mprev_1\u001b[0m\u001b[0;34m\u001b[0m\u001b[0;34m\u001b[0m\u001b[0m\n\u001b[1;32m    325\u001b[0m         \u001b[0mdo_trim_sent_push_results\u001b[0m\u001b[0;34m(\u001b[0m\u001b[0mcur_sentence\u001b[0m\u001b[0;34m,\u001b[0m \u001b[0mresults\u001b[0m\u001b[0;34m)\u001b[0m\u001b[0;34m\u001b[0m\u001b[0;34m\u001b[0m\u001b[0m\n",
            "\u001b[0;32m/usr/local/lib/python3.7/dist-packages/kss/base.py\u001b[0m in \u001b[0;36mprocess\u001b[0;34m(self, cur_chr, prev_1, prev_2, prev_3, prev_4, single_stack, double_stack)\u001b[0m\n",
            "\u001b[0;31mTypeError\u001b[0m: do_push_pop_symbol() missing 1 required positional argument: 'current_ch'"
          ]
        }
      ]
    },
    {
      "cell_type": "markdown",
      "metadata": {
        "id": "9KWyr7_LYE8q"
      },
      "source": [
        "# KcBERT-base MLM Finetune 학습하기 (GPU)\n",
        "\n",
        "- Huggingface Transformers에서 제공하는 `run_mlm.py` 파일을 이용해 KcBERT weight과 vocab을 이용해 MLM 학습 "
      ]
    },
    {
      "cell_type": "code",
      "metadata": {
        "colab": {
          "base_uri": "https://localhost:8080/"
        },
        "id": "q9Rta_FPXZ0L",
        "outputId": "458e40e2-bd56-4696-bac0-f96e1b21aa74"
      },
      "source": [
        "!mkdir ./test-mlm"
      ],
      "execution_count": null,
      "outputs": [
        {
          "output_type": "stream",
          "text": [
            "mkdir: cannot create directory ‘./test-mlm’: File exists\n"
          ],
          "name": "stdout"
        }
      ]
    },
    {
      "cell_type": "code",
      "metadata": {
        "colab": {
          "base_uri": "https://localhost:8080/"
        },
        "id": "bumVyJhPXcZe",
        "outputId": "ca4b7f32-5b78-4235-eae8-d7982c5c0c4c"
      },
      "source": [
        "!wget -O run_mlm.py https://raw.githubusercontent.com/huggingface/transformers/72aee83ced5f31302c5e331d896412737287f976/examples/pytorch/language-modeling/run_mlm.py"
      ],
      "execution_count": null,
      "outputs": [
        {
          "output_type": "stream",
          "text": [
            "--2021-08-16 05:39:13--  https://raw.githubusercontent.com/huggingface/transformers/72aee83ced5f31302c5e331d896412737287f976/examples/pytorch/language-modeling/run_mlm.py\n",
            "Resolving raw.githubusercontent.com (raw.githubusercontent.com)... 185.199.108.133, 185.199.109.133, 185.199.110.133, ...\n",
            "Connecting to raw.githubusercontent.com (raw.githubusercontent.com)|185.199.108.133|:443... connected.\n",
            "HTTP request sent, awaiting response... 200 OK\n",
            "Length: 24078 (24K) [text/plain]\n",
            "Saving to: ‘run_mlm.py’\n",
            "\n",
            "\rrun_mlm.py            0%[                    ]       0  --.-KB/s               \rrun_mlm.py          100%[===================>]  23.51K  --.-KB/s    in 0.002s  \n",
            "\n",
            "2021-08-16 05:39:14 (15.1 MB/s) - ‘run_mlm.py’ saved [24078/24078]\n",
            "\n"
          ],
          "name": "stdout"
        }
      ]
    },
    {
      "cell_type": "code",
      "metadata": {
        "colab": {
          "base_uri": "https://localhost:8080/"
        },
        "id": "Q5E3GLcOYs9y",
        "outputId": "169e7894-4f23-4b83-deaa-9711260add5b"
      },
      "source": [
        "!nvidia-smi"
      ],
      "execution_count": null,
      "outputs": [
        {
          "output_type": "stream",
          "text": [
            "Mon Aug 16 05:39:14 2021       \n",
            "+-----------------------------------------------------------------------------+\n",
            "| NVIDIA-SMI 470.42.01    Driver Version: 460.32.03    CUDA Version: 11.2     |\n",
            "|-------------------------------+----------------------+----------------------+\n",
            "| GPU  Name        Persistence-M| Bus-Id        Disp.A | Volatile Uncorr. ECC |\n",
            "| Fan  Temp  Perf  Pwr:Usage/Cap|         Memory-Usage | GPU-Util  Compute M. |\n",
            "|                               |                      |               MIG M. |\n",
            "|===============================+======================+======================|\n",
            "|   0  Tesla P100-PCIE...  Off  | 00000000:00:04.0 Off |                    0 |\n",
            "| N/A   40C    P0    27W / 250W |      0MiB / 16280MiB |      0%      Default |\n",
            "|                               |                      |                  N/A |\n",
            "+-------------------------------+----------------------+----------------------+\n",
            "                                                                               \n",
            "+-----------------------------------------------------------------------------+\n",
            "| Processes:                                                                  |\n",
            "|  GPU   GI   CI        PID   Type   Process name                  GPU Memory |\n",
            "|        ID   ID                                                   Usage      |\n",
            "|=============================================================================|\n",
            "|  No running processes found                                                 |\n",
            "+-----------------------------------------------------------------------------+\n"
          ],
          "name": "stdout"
        }
      ]
    },
    {
      "cell_type": "code",
      "metadata": {
        "colab": {
          "base_uri": "https://localhost:8080/"
        },
        "id": "eYJkBneJd9wd",
        "outputId": "37d181a6-2c10-41b2-ba97-918566f4c8bd"
      },
      "source": [
        "!ls"
      ],
      "execution_count": null,
      "outputs": [
        {
          "output_type": "stream",
          "text": [
            "korean_petitions_safe.txt\tKorpora     sample_data\n",
            "korean_petitions_safe.txt.lock\trun_mlm.py  test-mlm\n"
          ],
          "name": "stdout"
        }
      ]
    },
    {
      "cell_type": "code",
      "metadata": {
        "id": "4763DVvUeBPm"
      },
      "source": [
        "!head -n 10 korean_petitions_safe.txt"
      ],
      "execution_count": null,
      "outputs": []
    },
    {
      "cell_type": "code",
      "metadata": {
        "colab": {
          "base_uri": "https://localhost:8080/"
        },
        "id": "ikFSD-VzXbVS",
        "outputId": "9bc3b559-6771-46d8-a8a9-55376e8653b3"
      },
      "source": [
        "!python run_mlm.py \\\n",
        "    --model_name_or_path beomi/kcbert-base \\\n",
        "    --train_file korean_petitions_safe.txt \\\n",
        "    --do_train \\\n",
        "    --output_dir ./test-mlm"
      ],
      "execution_count": null,
      "outputs": [
        {
          "output_type": "stream",
          "text": [
            "2021-08-16 05:39:15.893093: I tensorflow/stream_executor/platform/default/dso_loader.cc:53] Successfully opened dynamic library libcudart.so.11.0\n",
            "08/16/2021 05:39:17 - WARNING - __main__ - Process rank: -1, device: cuda:0, n_gpu: 1distributed training: False, 16-bits training: False\n",
            "08/16/2021 05:39:17 - INFO - __main__ - Training/evaluation parameters TrainingArguments(\n",
            "_n_gpu=1,\n",
            "adafactor=False,\n",
            "adam_beta1=0.9,\n",
            "adam_beta2=0.999,\n",
            "adam_epsilon=1e-08,\n",
            "dataloader_drop_last=False,\n",
            "dataloader_num_workers=0,\n",
            "dataloader_pin_memory=True,\n",
            "ddp_find_unused_parameters=None,\n",
            "debug=[],\n",
            "deepspeed=None,\n",
            "disable_tqdm=False,\n",
            "do_eval=False,\n",
            "do_predict=False,\n",
            "do_train=True,\n",
            "eval_accumulation_steps=None,\n",
            "eval_steps=None,\n",
            "evaluation_strategy=IntervalStrategy.NO,\n",
            "fp16=False,\n",
            "fp16_backend=auto,\n",
            "fp16_full_eval=False,\n",
            "fp16_opt_level=O1,\n",
            "gradient_accumulation_steps=1,\n",
            "greater_is_better=None,\n",
            "group_by_length=False,\n",
            "ignore_data_skip=False,\n",
            "label_names=None,\n",
            "label_smoothing_factor=0.0,\n",
            "learning_rate=5e-05,\n",
            "length_column_name=length,\n",
            "load_best_model_at_end=False,\n",
            "local_rank=-1,\n",
            "log_level=-1,\n",
            "log_level_replica=-1,\n",
            "log_on_each_node=True,\n",
            "logging_dir=./test-mlm/runs/Aug16_05-39-17_cb60fe2c1a57,\n",
            "logging_first_step=False,\n",
            "logging_steps=500,\n",
            "logging_strategy=IntervalStrategy.STEPS,\n",
            "lr_scheduler_type=SchedulerType.LINEAR,\n",
            "max_grad_norm=1.0,\n",
            "max_steps=-1,\n",
            "metric_for_best_model=None,\n",
            "mp_parameters=,\n",
            "no_cuda=False,\n",
            "num_train_epochs=3.0,\n",
            "output_dir=./test-mlm,\n",
            "overwrite_output_dir=False,\n",
            "past_index=-1,\n",
            "per_device_eval_batch_size=8,\n",
            "per_device_train_batch_size=8,\n",
            "prediction_loss_only=False,\n",
            "push_to_hub=False,\n",
            "push_to_hub_model_id=test-mlm,\n",
            "push_to_hub_organization=None,\n",
            "push_to_hub_token=None,\n",
            "remove_unused_columns=True,\n",
            "report_to=['tensorboard'],\n",
            "resume_from_checkpoint=None,\n",
            "run_name=./test-mlm,\n",
            "save_on_each_node=False,\n",
            "save_steps=500,\n",
            "save_strategy=IntervalStrategy.STEPS,\n",
            "save_total_limit=None,\n",
            "seed=42,\n",
            "sharded_ddp=[],\n",
            "skip_memory_metrics=True,\n",
            "tpu_metrics_debug=False,\n",
            "tpu_num_cores=None,\n",
            "use_legacy_prediction_loop=False,\n",
            "warmup_ratio=0.0,\n",
            "warmup_steps=0,\n",
            "weight_decay=0.0,\n",
            ")\n",
            "08/16/2021 05:39:18 - WARNING - datasets.builder - Using custom data configuration default-dd91b8b7dab8cd99\n",
            "08/16/2021 05:39:18 - INFO - datasets.builder - Generating dataset text (/root/.cache/huggingface/datasets/text/default-dd91b8b7dab8cd99/0.0.0/e16f44aa1b321ece1f87b07977cc5d70be93d69b20486d6dacd62e12cf25c9a5)\n",
            "Downloading and preparing dataset text/default (download: Unknown size, generated: Unknown size, post-processed: Unknown size, total: Unknown size) to /root/.cache/huggingface/datasets/text/default-dd91b8b7dab8cd99/0.0.0/e16f44aa1b321ece1f87b07977cc5d70be93d69b20486d6dacd62e12cf25c9a5...\n",
            "100% 1/1 [00:00<00:00, 9020.01it/s]\n",
            "08/16/2021 05:39:18 - INFO - datasets.utils.download_manager - Downloading took 0.0 min\n",
            "08/16/2021 05:39:18 - INFO - datasets.utils.download_manager - Checksum Computation took 0.0 min\n",
            "100% 1/1 [00:00<00:00, 1340.03it/s]\n",
            "08/16/2021 05:39:18 - INFO - datasets.utils.info_utils - Unable to verify checksums.\n",
            "08/16/2021 05:39:18 - INFO - datasets.builder - Generating split train\n",
            "Traceback (most recent call last):\n",
            "  File \"run_mlm.py\", line 550, in <module>\n",
            "    main()\n",
            "  File \"run_mlm.py\", line 287, in main\n",
            "    raw_datasets = load_dataset(extension, data_files=data_files, cache_dir=model_args.cache_dir)\n",
            "  File \"/usr/local/lib/python3.7/dist-packages/datasets/load.py\", line 852, in load_dataset\n",
            "    use_auth_token=use_auth_token,\n",
            "  File \"/usr/local/lib/python3.7/dist-packages/datasets/builder.py\", line 616, in download_and_prepare\n",
            "    dl_manager=dl_manager, verify_infos=verify_infos, **download_and_prepare_kwargs\n",
            "  File \"/usr/local/lib/python3.7/dist-packages/datasets/builder.py\", line 693, in _download_and_prepare\n",
            "    self._prepare_split(split_generator, **prepare_split_kwargs)\n",
            "  File \"/usr/local/lib/python3.7/dist-packages/datasets/builder.py\", line 1166, in _prepare_split\n",
            "    num_examples, num_bytes = writer.finalize()\n",
            "  File \"/usr/local/lib/python3.7/dist-packages/datasets/arrow_writer.py\", line 425, in finalize\n",
            "    raise ValueError(\"Please pass `features` or at least one example when writing data\")\n",
            "ValueError: Please pass `features` or at least one example when writing data\n"
          ],
          "name": "stdout"
        }
      ]
    },
    {
      "cell_type": "markdown",
      "metadata": {
        "id": "81n_IaCRdP2w"
      },
      "source": [
        "### 학습 완료후 아래 에러는 무시하셔도 됩니다.\n",
        "\n",
        "- 학습 완료된 파일들은 `test-mlm` 폴더 내에 들어있습니다 :)\n"
      ]
    },
    {
      "cell_type": "markdown",
      "metadata": {
        "id": "wDXIj3uadNYh"
      },
      "source": [
        "![image.png](data:image/png;base64,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)"
      ]
    },
    {
      "cell_type": "code",
      "metadata": {
        "id": "fDq7EV6XYTho"
      },
      "source": [],
      "execution_count": null,
      "outputs": []
    }
  ]
}